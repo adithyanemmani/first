{
  "cells": [
    {
      "cell_type": "markdown",
      "metadata": {
        "id": "view-in-github",
        "colab_type": "text"
      },
      "source": [
        "<a href=\"https://colab.research.google.com/github/adithyanemmani/first/blob/main/Notebook.ipynb\" target=\"_parent\"><img src=\"https://colab.research.google.com/assets/colab-badge.svg\" alt=\"Open In Colab\"/></a>"
      ]
    },
    {
      "cell_type": "code",
      "execution_count": 3,
      "metadata": {
        "colab": {
          "base_uri": "https://localhost:8080/"
        },
        "id": "PkB19alwcDL4",
        "outputId": "ab9a307a-95f5-403e-8346-baea530fa5db"
      },
      "outputs": [
        {
          "output_type": "stream",
          "name": "stdout",
          "text": [
            "Looking in indexes: https://pypi.org/simple, https://us-python.pkg.dev/colab-wheels/public/simple/\n",
            "Collecting transformers\n",
            "  Downloading transformers-4.21.3-py3-none-any.whl (4.7 MB)\n",
            "\u001b[K     |████████████████████████████████| 4.7 MB 2.1 MB/s \n",
            "\u001b[?25hRequirement already satisfied: requests in /usr/local/lib/python3.7/dist-packages (from transformers) (2.23.0)\n",
            "Requirement already satisfied: importlib-metadata in /usr/local/lib/python3.7/dist-packages (from transformers) (4.12.0)\n",
            "Requirement already satisfied: packaging>=20.0 in /usr/local/lib/python3.7/dist-packages (from transformers) (21.3)\n",
            "Collecting tokenizers!=0.11.3,<0.13,>=0.11.1\n",
            "  Downloading tokenizers-0.12.1-cp37-cp37m-manylinux_2_12_x86_64.manylinux2010_x86_64.whl (6.6 MB)\n",
            "\u001b[K     |████████████████████████████████| 6.6 MB 51.0 MB/s \n",
            "\u001b[?25hRequirement already satisfied: regex!=2019.12.17 in /usr/local/lib/python3.7/dist-packages (from transformers) (2022.6.2)\n",
            "Requirement already satisfied: filelock in /usr/local/lib/python3.7/dist-packages (from transformers) (3.8.0)\n",
            "Requirement already satisfied: pyyaml>=5.1 in /usr/local/lib/python3.7/dist-packages (from transformers) (6.0)\n",
            "Requirement already satisfied: tqdm>=4.27 in /usr/local/lib/python3.7/dist-packages (from transformers) (4.64.0)\n",
            "Requirement already satisfied: numpy>=1.17 in /usr/local/lib/python3.7/dist-packages (from transformers) (1.21.6)\n",
            "Collecting huggingface-hub<1.0,>=0.1.0\n",
            "  Downloading huggingface_hub-0.9.1-py3-none-any.whl (120 kB)\n",
            "\u001b[K     |████████████████████████████████| 120 kB 52.1 MB/s \n",
            "\u001b[?25hRequirement already satisfied: typing-extensions>=3.7.4.3 in /usr/local/lib/python3.7/dist-packages (from huggingface-hub<1.0,>=0.1.0->transformers) (4.1.1)\n",
            "Requirement already satisfied: pyparsing!=3.0.5,>=2.0.2 in /usr/local/lib/python3.7/dist-packages (from packaging>=20.0->transformers) (3.0.9)\n",
            "Requirement already satisfied: zipp>=0.5 in /usr/local/lib/python3.7/dist-packages (from importlib-metadata->transformers) (3.8.1)\n",
            "Requirement already satisfied: idna<3,>=2.5 in /usr/local/lib/python3.7/dist-packages (from requests->transformers) (2.10)\n",
            "Requirement already satisfied: certifi>=2017.4.17 in /usr/local/lib/python3.7/dist-packages (from requests->transformers) (2022.6.15)\n",
            "Requirement already satisfied: urllib3!=1.25.0,!=1.25.1,<1.26,>=1.21.1 in /usr/local/lib/python3.7/dist-packages (from requests->transformers) (1.24.3)\n",
            "Requirement already satisfied: chardet<4,>=3.0.2 in /usr/local/lib/python3.7/dist-packages (from requests->transformers) (3.0.4)\n",
            "Installing collected packages: tokenizers, huggingface-hub, transformers\n",
            "Successfully installed huggingface-hub-0.9.1 tokenizers-0.12.1 transformers-4.21.3\n"
          ]
        }
      ],
      "source": [
        "# Jovian Commit Essentials\n",
        "# Please retain and execute this cell without modifying the contents for `jovian.commit` to work\n",
        "!pip install jovian --upgrade -q\n",
        "!pip install transformers\n",
        "import jovian\n",
        "jovian.set_project('notebook')\n",
        "jovian.set_colab_id('1LXfyC-f9bD5qUAqTRUXP3hDtYbguJuWQ')"
      ]
    },
    {
      "cell_type": "code",
      "execution_count": 5,
      "metadata": {
        "id": "HIFgZcfWlC8F",
        "colab": {
          "base_uri": "https://localhost:8080/",
          "height": 1000
        },
        "outputId": "d3420110-49f6-4ee1-c7e3-d3cbfa894641"
      },
      "outputs": [
        {
          "output_type": "stream",
          "name": "stdout",
          "text": [
            "Looking in indexes: https://pypi.org/simple, https://us-python.pkg.dev/colab-wheels/public/simple/\n",
            "Collecting pycaret-ts-alpha\n",
            "  Downloading pycaret_ts_alpha-3.0.0.dev1649017462-py3-none-any.whl (468 kB)\n",
            "\u001b[K     |████████████████████████████████| 468 kB 2.1 MB/s \n",
            "\u001b[?25hCollecting kaleido>=0.2.1\n",
            "  Downloading kaleido-0.2.1-py2.py3-none-manylinux1_x86_64.whl (79.9 MB)\n",
            "\u001b[K     |████████████████████████████████| 79.9 MB 129 kB/s \n",
            "\u001b[?25hCollecting lightgbm>=3.0.0\n",
            "  Downloading lightgbm-3.3.2-py3-none-manylinux1_x86_64.whl (2.0 MB)\n",
            "\u001b[K     |████████████████████████████████| 2.0 MB 54.1 MB/s \n",
            "\u001b[?25hRequirement already satisfied: scikit-learn>=1.0.2 in /usr/local/lib/python3.7/dist-packages (from pycaret-ts-alpha) (1.0.2)\n",
            "Requirement already satisfied: scipy~=1.7.3 in /usr/local/lib/python3.7/dist-packages (from pycaret-ts-alpha) (1.7.3)\n",
            "Requirement already satisfied: plotly>=5.0.0 in /usr/local/lib/python3.7/dist-packages (from pycaret-ts-alpha) (5.5.0)\n",
            "Collecting pyod>=0.9.8\n",
            "  Downloading pyod-1.0.4.tar.gz (134 kB)\n",
            "\u001b[K     |████████████████████████████████| 134 kB 49.1 MB/s \n",
            "\u001b[?25hRequirement already satisfied: imbalanced-learn>=0.8.1 in /usr/local/lib/python3.7/dist-packages (from pycaret-ts-alpha) (0.8.1)\n",
            "Requirement already satisfied: ipython>=5.5.0 in /usr/local/lib/python3.7/dist-packages (from pycaret-ts-alpha) (7.9.0)\n",
            "Collecting joblib~=1.0.1\n",
            "  Downloading joblib-1.0.1-py3-none-any.whl (303 kB)\n",
            "\u001b[K     |████████████████████████████████| 303 kB 55.4 MB/s \n",
            "\u001b[?25hCollecting tbats>=1.1.0\n",
            "  Downloading tbats-1.1.0-py3-none-any.whl (43 kB)\n",
            "\u001b[K     |████████████████████████████████| 43 kB 2.2 MB/s \n",
            "\u001b[?25hCollecting sktime==0.10.1\n",
            "  Downloading sktime-0.10.1-py3-none-any.whl (6.5 MB)\n",
            "\u001b[K     |████████████████████████████████| 6.5 MB 45.7 MB/s \n",
            "\u001b[?25hRequirement already satisfied: numpy~=1.21 in /usr/local/lib/python3.7/dist-packages (from pycaret-ts-alpha) (1.21.6)\n",
            "Collecting scikit-plot>=0.3.7\n",
            "  Downloading scikit_plot-0.3.7-py3-none-any.whl (33 kB)\n",
            "Collecting pmdarima>=1.8.0\n",
            "  Downloading pmdarima-2.0.1-cp37-cp37m-manylinux_2_17_x86_64.manylinux2014_x86_64.manylinux_2_28_x86_64.whl (1.8 MB)\n",
            "\u001b[K     |████████████████████████████████| 1.8 MB 44.3 MB/s \n",
            "\u001b[?25hCollecting category-encoders>=2.4.0\n",
            "  Downloading category_encoders-2.5.0-py2.py3-none-any.whl (69 kB)\n",
            "\u001b[K     |████████████████████████████████| 69 kB 7.6 MB/s \n",
            "\u001b[?25hRequirement already satisfied: pandas<1.5.0,>=1.3.0 in /usr/local/lib/python3.7/dist-packages (from pycaret-ts-alpha) (1.3.5)\n",
            "Collecting numba~=0.55.0\n",
            "  Downloading numba-0.55.2-cp37-cp37m-manylinux2014_x86_64.manylinux_2_17_x86_64.whl (3.3 MB)\n",
            "\u001b[K     |████████████████████████████████| 3.3 MB 41.5 MB/s \n",
            "\u001b[?25hRequirement already satisfied: yellowbrick>=1.4 in /usr/local/lib/python3.7/dist-packages (from pycaret-ts-alpha) (1.5)\n",
            "Collecting matplotlib>=3.3.0\n",
            "  Downloading matplotlib-3.5.3-cp37-cp37m-manylinux_2_5_x86_64.manylinux1_x86_64.whl (11.2 MB)\n",
            "\u001b[K     |████████████████████████████████| 11.2 MB 39.7 MB/s \n",
            "\u001b[?25hRequirement already satisfied: statsmodels>=0.12.1 in /usr/local/lib/python3.7/dist-packages (from pycaret-ts-alpha) (0.12.2)\n",
            "Collecting deprecated>=1.2.13\n",
            "  Downloading Deprecated-1.2.13-py2.py3-none-any.whl (9.6 kB)\n",
            "Requirement already satisfied: patsy>=0.5.1 in /usr/local/lib/python3.7/dist-packages (from category-encoders>=2.4.0->pycaret-ts-alpha) (0.5.2)\n",
            "Requirement already satisfied: wrapt<2,>=1.10 in /usr/local/lib/python3.7/dist-packages (from deprecated>=1.2.13->sktime==0.10.1->pycaret-ts-alpha) (1.14.1)\n",
            "Requirement already satisfied: decorator in /usr/local/lib/python3.7/dist-packages (from ipython>=5.5.0->pycaret-ts-alpha) (4.4.2)\n",
            "Requirement already satisfied: setuptools>=18.5 in /usr/local/lib/python3.7/dist-packages (from ipython>=5.5.0->pycaret-ts-alpha) (57.4.0)\n",
            "Requirement already satisfied: pygments in /usr/local/lib/python3.7/dist-packages (from ipython>=5.5.0->pycaret-ts-alpha) (2.6.1)\n",
            "Requirement already satisfied: prompt-toolkit<2.1.0,>=2.0.0 in /usr/local/lib/python3.7/dist-packages (from ipython>=5.5.0->pycaret-ts-alpha) (2.0.10)\n",
            "Requirement already satisfied: backcall in /usr/local/lib/python3.7/dist-packages (from ipython>=5.5.0->pycaret-ts-alpha) (0.2.0)\n",
            "Requirement already satisfied: pexpect in /usr/local/lib/python3.7/dist-packages (from ipython>=5.5.0->pycaret-ts-alpha) (4.8.0)\n",
            "Requirement already satisfied: pickleshare in /usr/local/lib/python3.7/dist-packages (from ipython>=5.5.0->pycaret-ts-alpha) (0.7.5)\n",
            "Requirement already satisfied: traitlets>=4.2 in /usr/local/lib/python3.7/dist-packages (from ipython>=5.5.0->pycaret-ts-alpha) (5.1.1)\n",
            "Collecting jedi>=0.10\n",
            "  Downloading jedi-0.18.1-py2.py3-none-any.whl (1.6 MB)\n",
            "\u001b[K     |████████████████████████████████| 1.6 MB 43.3 MB/s \n",
            "\u001b[?25hRequirement already satisfied: parso<0.9.0,>=0.8.0 in /usr/local/lib/python3.7/dist-packages (from jedi>=0.10->ipython>=5.5.0->pycaret-ts-alpha) (0.8.3)\n",
            "Requirement already satisfied: wheel in /usr/local/lib/python3.7/dist-packages (from lightgbm>=3.0.0->pycaret-ts-alpha) (0.37.1)\n",
            "Requirement already satisfied: packaging>=20.0 in /usr/local/lib/python3.7/dist-packages (from matplotlib>=3.3.0->pycaret-ts-alpha) (21.3)\n",
            "Collecting fonttools>=4.22.0\n",
            "  Downloading fonttools-4.37.1-py3-none-any.whl (957 kB)\n",
            "\u001b[K     |████████████████████████████████| 957 kB 54.2 MB/s \n",
            "\u001b[?25hRequirement already satisfied: cycler>=0.10 in /usr/local/lib/python3.7/dist-packages (from matplotlib>=3.3.0->pycaret-ts-alpha) (0.11.0)\n",
            "Requirement already satisfied: pyparsing>=2.2.1 in /usr/local/lib/python3.7/dist-packages (from matplotlib>=3.3.0->pycaret-ts-alpha) (3.0.9)\n",
            "Requirement already satisfied: pillow>=6.2.0 in /usr/local/lib/python3.7/dist-packages (from matplotlib>=3.3.0->pycaret-ts-alpha) (7.1.2)\n",
            "Requirement already satisfied: python-dateutil>=2.7 in /usr/local/lib/python3.7/dist-packages (from matplotlib>=3.3.0->pycaret-ts-alpha) (2.8.2)\n",
            "Requirement already satisfied: kiwisolver>=1.0.1 in /usr/local/lib/python3.7/dist-packages (from matplotlib>=3.3.0->pycaret-ts-alpha) (1.4.4)\n",
            "Requirement already satisfied: typing-extensions in /usr/local/lib/python3.7/dist-packages (from kiwisolver>=1.0.1->matplotlib>=3.3.0->pycaret-ts-alpha) (4.1.1)\n",
            "Collecting llvmlite<0.39,>=0.38.0rc1\n",
            "  Downloading llvmlite-0.38.1-cp37-cp37m-manylinux_2_17_x86_64.manylinux2014_x86_64.whl (34.5 MB)\n",
            "\u001b[K     |████████████████████████████████| 34.5 MB 16 kB/s \n",
            "\u001b[?25hRequirement already satisfied: pytz>=2017.3 in /usr/local/lib/python3.7/dist-packages (from pandas<1.5.0,>=1.3.0->pycaret-ts-alpha) (2022.2.1)\n",
            "Requirement already satisfied: six in /usr/local/lib/python3.7/dist-packages (from patsy>=0.5.1->category-encoders>=2.4.0->pycaret-ts-alpha) (1.15.0)\n",
            "Requirement already satisfied: tenacity>=6.2.0 in /usr/local/lib/python3.7/dist-packages (from plotly>=5.0.0->pycaret-ts-alpha) (8.0.1)\n",
            "Requirement already satisfied: urllib3 in /usr/local/lib/python3.7/dist-packages (from pmdarima>=1.8.0->pycaret-ts-alpha) (1.24.3)\n",
            "Collecting statsmodels>=0.12.1\n",
            "  Downloading statsmodels-0.13.2-cp37-cp37m-manylinux_2_17_x86_64.manylinux2014_x86_64.whl (9.8 MB)\n",
            "\u001b[K     |████████████████████████████████| 9.8 MB 49.3 MB/s \n",
            "\u001b[?25hRequirement already satisfied: Cython!=0.29.18,!=0.29.31,>=0.29 in /usr/local/lib/python3.7/dist-packages (from pmdarima>=1.8.0->pycaret-ts-alpha) (0.29.32)\n",
            "Requirement already satisfied: wcwidth in /usr/local/lib/python3.7/dist-packages (from prompt-toolkit<2.1.0,>=2.0.0->ipython>=5.5.0->pycaret-ts-alpha) (0.2.5)\n",
            "Requirement already satisfied: threadpoolctl>=2.0.0 in /usr/local/lib/python3.7/dist-packages (from scikit-learn>=1.0.2->pycaret-ts-alpha) (3.1.0)\n",
            "Requirement already satisfied: ptyprocess>=0.5 in /usr/local/lib/python3.7/dist-packages (from pexpect->ipython>=5.5.0->pycaret-ts-alpha) (0.7.0)\n",
            "Building wheels for collected packages: pyod\n",
            "  Building wheel for pyod (setup.py) ... \u001b[?25l\u001b[?25hdone\n",
            "  Created wheel for pyod: filename=pyod-1.0.4-py3-none-any.whl size=165073 sha256=447cce75d2058e95aef263805d4bf2921c502f2adb31a79cbbb91c1da758e56e\n",
            "  Stored in directory: /root/.cache/pip/wheels/3d/48/a8/87d61660791c7e6b0f5c3068da7fb17ade7fdc041e864fe053\n",
            "Successfully built pyod\n",
            "Installing collected packages: joblib, statsmodels, llvmlite, fonttools, pmdarima, numba, matplotlib, jedi, deprecated, tbats, sktime, scikit-plot, pyod, lightgbm, kaleido, category-encoders, pycaret-ts-alpha\n",
            "  Attempting uninstall: joblib\n",
            "    Found existing installation: joblib 1.1.0\n",
            "    Uninstalling joblib-1.1.0:\n",
            "      Successfully uninstalled joblib-1.1.0\n",
            "  Attempting uninstall: statsmodels\n",
            "    Found existing installation: statsmodels 0.12.2\n",
            "    Uninstalling statsmodels-0.12.2:\n",
            "      Successfully uninstalled statsmodels-0.12.2\n",
            "  Attempting uninstall: llvmlite\n",
            "    Found existing installation: llvmlite 0.39.0\n",
            "    Uninstalling llvmlite-0.39.0:\n",
            "      Successfully uninstalled llvmlite-0.39.0\n",
            "  Attempting uninstall: numba\n",
            "    Found existing installation: numba 0.56.0\n",
            "    Uninstalling numba-0.56.0:\n",
            "      Successfully uninstalled numba-0.56.0\n",
            "  Attempting uninstall: matplotlib\n",
            "    Found existing installation: matplotlib 3.2.2\n",
            "    Uninstalling matplotlib-3.2.2:\n",
            "      Successfully uninstalled matplotlib-3.2.2\n",
            "  Attempting uninstall: lightgbm\n",
            "    Found existing installation: lightgbm 2.2.3\n",
            "    Uninstalling lightgbm-2.2.3:\n",
            "      Successfully uninstalled lightgbm-2.2.3\n",
            "Successfully installed category-encoders-2.5.0 deprecated-1.2.13 fonttools-4.37.1 jedi-0.18.1 joblib-1.0.1 kaleido-0.2.1 lightgbm-3.3.2 llvmlite-0.38.1 matplotlib-3.5.3 numba-0.55.2 pmdarima-2.0.1 pycaret-ts-alpha-3.0.0.dev1649017462 pyod-1.0.4 scikit-plot-0.3.7 sktime-0.10.1 statsmodels-0.13.2 tbats-1.1.0\n"
          ]
        },
        {
          "output_type": "display_data",
          "data": {
            "application/vnd.colab-display-data+json": {
              "pip_warning": {
                "packages": [
                  "joblib",
                  "matplotlib",
                  "mpl_toolkits",
                  "statsmodels"
                ]
              }
            }
          },
          "metadata": {}
        }
      ],
      "source": [
        "import matplotlib.pyplot as plt\n",
        "import seaborn as sns\n",
        "import numpy as np\n",
        "import torch\n",
        "import torch.nn as nn\n",
        "from sklearn.model_selection import train_test_split\n",
        "from sklearn.metrics import classification_report\n",
        "import transformers\n",
        "from transformers import AutoModel, BertTokenizerFast\n",
        "from sklearn.decomposition import PCA\n",
        "import tensorflow_hub as hub\n",
        "!pip install pycaret-ts-alpha\n",
        "from pycaret.classification import * \n",
        "from sklearn.preprocessing import LabelEncoder\n",
        "from sklearn.metrics import plot_confusion_matrix\n",
        "#from googletrans import Translator\n",
        "plt.style.use('ggplot')\n",
        "plt.rcParams['font.family'] = 'sans-serif' \n",
        "plt.rcParams['font.serif'] = 'Ubuntu' \n",
        "plt.rcParams['font.monospace'] = 'Ubuntu Mono' \n",
        "plt.rcParams['font.size'] = 14 \n",
        "plt.rcParams['axes.labelsize'] = 12 \n",
        "plt.rcParams['axes.labelweight'] = 'bold' \n",
        "plt.rcParams['axes.titlesize'] = 12 \n",
        "plt.rcParams['xtick.labelsize'] = 12 \n",
        "plt.rcParams['ytick.labelsize'] = 12 \n",
        "plt.rcParams['legend.fontsize'] = 12 \n",
        "plt.rcParams['figure.titlesize'] = 12 \n",
        "plt.rcParams['image.cmap'] = 'jet' \n",
        "plt.rcParams['image.interpolation'] = 'none' \n",
        "plt.rcParams['figure.figsize'] = (10, 10\n",
        "                                 ) \n",
        "plt.rcParams['axes.grid']=False\n",
        "plt.rcParams['lines.linewidth'] = 2 \n",
        "plt.rcParams['lines.markersize'] = 8\n",
        "colors = ['xkcd:pale range', 'xkcd:sea blue', 'xkcd:pale red', 'xkcd:sage green', 'xkcd:terra cotta', 'xkcd:dull purple', 'xkcd:teal', 'xkcd: goldenrod', 'xkcd:cadet blue',\n",
        "'xkcd:scarlet']\n",
        "bbox_props = dict(boxstyle=\"round,pad=0.3\", fc=colors[0], alpha=.5)\n",
        "import pandas as pd\n",
        "import pycaret "
      ]
    },
    {
      "cell_type": "code",
      "execution_count": null,
      "metadata": {
        "id": "9Gkv1hk-mr9Z"
      },
      "outputs": [],
      "source": [
        "true_data = pd.read_csv('True.csv')"
      ]
    },
    {
      "cell_type": "code",
      "execution_count": null,
      "metadata": {
        "id": "5MP2QZvBm1yZ"
      },
      "outputs": [],
      "source": [
        "fake_data = pd.read_csv('Fake.csv')"
      ]
    },
    {
      "cell_type": "code",
      "execution_count": null,
      "metadata": {
        "colab": {
          "base_uri": "https://localhost:8080/",
          "height": 197
        },
        "id": "NmzCFFB4m5Lx",
        "outputId": "7e93761d-6415-4274-f857-1015ec2bbf18"
      },
      "outputs": [
        {
          "data": {
            "text/html": [
              "<div>\n",
              "<style scoped>\n",
              "    .dataframe tbody tr th:only-of-type {\n",
              "        vertical-align: middle;\n",
              "    }\n",
              "\n",
              "    .dataframe tbody tr th {\n",
              "        vertical-align: top;\n",
              "    }\n",
              "\n",
              "    .dataframe thead th {\n",
              "        text-align: right;\n",
              "    }\n",
              "</style>\n",
              "<table border=\"1\" class=\"dataframe\">\n",
              "  <thead>\n",
              "    <tr style=\"text-align: right;\">\n",
              "      <th></th>\n",
              "      <th>title</th>\n",
              "      <th>text</th>\n",
              "      <th>subject</th>\n",
              "      <th>date</th>\n",
              "    </tr>\n",
              "  </thead>\n",
              "  <tbody>\n",
              "    <tr>\n",
              "      <th>0</th>\n",
              "      <td>As U.S. budget fight looms, Republicans flip t...</td>\n",
              "      <td>WASHINGTON (Reuters) - The head of a conservat...</td>\n",
              "      <td>politicsNews</td>\n",
              "      <td>December 31, 2017</td>\n",
              "    </tr>\n",
              "    <tr>\n",
              "      <th>1</th>\n",
              "      <td>U.S. military to accept transgender recruits o...</td>\n",
              "      <td>WASHINGTON (Reuters) - Transgender people will...</td>\n",
              "      <td>politicsNews</td>\n",
              "      <td>December 29, 2017</td>\n",
              "    </tr>\n",
              "    <tr>\n",
              "      <th>2</th>\n",
              "      <td>Senior U.S. Republican senator: 'Let Mr. Muell...</td>\n",
              "      <td>WASHINGTON (Reuters) - The special counsel inv...</td>\n",
              "      <td>politicsNews</td>\n",
              "      <td>December 31, 2017</td>\n",
              "    </tr>\n",
              "    <tr>\n",
              "      <th>3</th>\n",
              "      <td>FBI Russia probe helped by Australian diplomat...</td>\n",
              "      <td>WASHINGTON (Reuters) - Trump campaign adviser ...</td>\n",
              "      <td>politicsNews</td>\n",
              "      <td>December 30, 2017</td>\n",
              "    </tr>\n",
              "    <tr>\n",
              "      <th>4</th>\n",
              "      <td>Trump wants Postal Service to charge 'much mor...</td>\n",
              "      <td>SEATTLE/WASHINGTON (Reuters) - President Donal...</td>\n",
              "      <td>politicsNews</td>\n",
              "      <td>December 29, 2017</td>\n",
              "    </tr>\n",
              "  </tbody>\n",
              "</table>\n",
              "</div>"
            ],
            "text/plain": [
              "                                               title  ...                date\n",
              "0  As U.S. budget fight looms, Republicans flip t...  ...  December 31, 2017 \n",
              "1  U.S. military to accept transgender recruits o...  ...  December 29, 2017 \n",
              "2  Senior U.S. Republican senator: 'Let Mr. Muell...  ...  December 31, 2017 \n",
              "3  FBI Russia probe helped by Australian diplomat...  ...  December 30, 2017 \n",
              "4  Trump wants Postal Service to charge 'much mor...  ...  December 29, 2017 \n",
              "\n",
              "[5 rows x 4 columns]"
            ]
          },
          "execution_count": 8,
          "metadata": {
            "tags": []
          },
          "output_type": "execute_result"
        }
      ],
      "source": [
        "true_data.head()"
      ]
    },
    {
      "cell_type": "code",
      "execution_count": null,
      "metadata": {
        "colab": {
          "base_uri": "https://localhost:8080/",
          "height": 197
        },
        "id": "33T4oHrpm9fT",
        "outputId": "1a863baf-744a-440e-d406-ad5aacf1d446"
      },
      "outputs": [
        {
          "data": {
            "text/html": [
              "<div>\n",
              "<style scoped>\n",
              "    .dataframe tbody tr th:only-of-type {\n",
              "        vertical-align: middle;\n",
              "    }\n",
              "\n",
              "    .dataframe tbody tr th {\n",
              "        vertical-align: top;\n",
              "    }\n",
              "\n",
              "    .dataframe thead th {\n",
              "        text-align: right;\n",
              "    }\n",
              "</style>\n",
              "<table border=\"1\" class=\"dataframe\">\n",
              "  <thead>\n",
              "    <tr style=\"text-align: right;\">\n",
              "      <th></th>\n",
              "      <th>title</th>\n",
              "      <th>text</th>\n",
              "      <th>subject</th>\n",
              "      <th>date</th>\n",
              "    </tr>\n",
              "  </thead>\n",
              "  <tbody>\n",
              "    <tr>\n",
              "      <th>0</th>\n",
              "      <td>Donald Trump Sends Out Embarrassing New Year’...</td>\n",
              "      <td>Donald Trump just couldn t wish all Americans ...</td>\n",
              "      <td>News</td>\n",
              "      <td>December 31, 2017</td>\n",
              "    </tr>\n",
              "    <tr>\n",
              "      <th>1</th>\n",
              "      <td>Drunk Bragging Trump Staffer Started Russian ...</td>\n",
              "      <td>House Intelligence Committee Chairman Devin Nu...</td>\n",
              "      <td>News</td>\n",
              "      <td>December 31, 2017</td>\n",
              "    </tr>\n",
              "    <tr>\n",
              "      <th>2</th>\n",
              "      <td>Sheriff David Clarke Becomes An Internet Joke...</td>\n",
              "      <td>On Friday, it was revealed that former Milwauk...</td>\n",
              "      <td>News</td>\n",
              "      <td>December 30, 2017</td>\n",
              "    </tr>\n",
              "    <tr>\n",
              "      <th>3</th>\n",
              "      <td>Trump Is So Obsessed He Even Has Obama’s Name...</td>\n",
              "      <td>On Christmas day, Donald Trump announced that ...</td>\n",
              "      <td>News</td>\n",
              "      <td>December 29, 2017</td>\n",
              "    </tr>\n",
              "    <tr>\n",
              "      <th>4</th>\n",
              "      <td>Pope Francis Just Called Out Donald Trump Dur...</td>\n",
              "      <td>Pope Francis used his annual Christmas Day mes...</td>\n",
              "      <td>News</td>\n",
              "      <td>December 25, 2017</td>\n",
              "    </tr>\n",
              "  </tbody>\n",
              "</table>\n",
              "</div>"
            ],
            "text/plain": [
              "                                               title  ...               date\n",
              "0   Donald Trump Sends Out Embarrassing New Year’...  ...  December 31, 2017\n",
              "1   Drunk Bragging Trump Staffer Started Russian ...  ...  December 31, 2017\n",
              "2   Sheriff David Clarke Becomes An Internet Joke...  ...  December 30, 2017\n",
              "3   Trump Is So Obsessed He Even Has Obama’s Name...  ...  December 29, 2017\n",
              "4   Pope Francis Just Called Out Donald Trump Dur...  ...  December 25, 2017\n",
              "\n",
              "[5 rows x 4 columns]"
            ]
          },
          "execution_count": 9,
          "metadata": {
            "tags": []
          },
          "output_type": "execute_result"
        }
      ],
      "source": [
        "fake_data.head()"
      ]
    },
    {
      "cell_type": "code",
      "execution_count": null,
      "metadata": {
        "id": "mn7l0v3Tm--I"
      },
      "outputs": [],
      "source": [
        "true_data['Target']=['True']*len(true_data)\n",
        "fake_data['Target']=['Fake']*len(fake_data)"
      ]
    },
    {
      "cell_type": "code",
      "execution_count": null,
      "metadata": {
        "id": "vNM0tkTnnRe7"
      },
      "outputs": [],
      "source": [
        "data=true_data.append(fake_data).sample(frac=1).reset_index().drop(columns=['index'])"
      ]
    },
    {
      "cell_type": "code",
      "execution_count": null,
      "metadata": {
        "id": "45wJ4_Zendo4"
      },
      "outputs": [],
      "source": [
        "cat_tar=pd.get_dummies(data.Target)['Fake']"
      ]
    },
    {
      "cell_type": "code",
      "execution_count": null,
      "metadata": {
        "id": "jUP2_oJlnmRy"
      },
      "outputs": [],
      "source": [
        "label_size = [cat_tar.sum(),len(cat_tar)-cat_tar.sum()]"
      ]
    },
    {
      "cell_type": "code",
      "execution_count": null,
      "metadata": {
        "colab": {
          "base_uri": "https://localhost:8080/",
          "height": 681
        },
        "id": "6GR5qqqwoVAc",
        "outputId": "351ac7e1-0b5c-4e96-d851-99a71412bf56"
      },
      "outputs": [
        {
          "data": {
            "text/plain": [
              "([<matplotlib.patches.Wedge at 0x7f8e0be74ad0>,\n",
              "  <matplotlib.patches.Wedge at 0x7f8e0bdff510>],\n",
              " [Text(-1.1968727067385088, -0.0865778485782335, 'Fake'),\n",
              "  Text(1.1968726986325005, 0.08657796063754254, 'True')],\n",
              " [Text(-0.6981757455974634, -0.05050374500396954, '52.3%'),\n",
              "  Text(0.6981757408689586, 0.05050381037189981, '47.7%')])"
            ]
          },
          "execution_count": 33,
          "metadata": {
            "tags": []
          },
          "output_type": "execute_result"
        },
        {
          "data": {
            "image/png": "[encoded data removed]",
            "text/plain": [
              "<Figure size 720x720 with 1 Axes>"
            ]
          },
          "metadata": {
            "tags": []
          },
          "output_type": "display_data"
        }
      ],
      "source": [
        "plt.pie(label_size,explode=[0.1,0.1],colors=['firebrick','navy'],startangle=90,shadow=True,labels=['Fake','True'],autopct='%1.1f%%')"
      ]
    },
    {
      "cell_type": "code",
      "execution_count": null,
      "metadata": {
        "id": "DqzJJcinrP_a"
      },
      "outputs": [],
      "source": [
        "import sklearn.preprocessing as preprocessing"
      ]
    },
    {
      "cell_type": "code",
      "execution_count": null,
      "metadata": {
        "id": "53I24mK8rtX1"
      },
      "outputs": [],
      "source": [
        "#data['subjectenc']=SubjectEncoder(data.subject.tolist())\n",
        "data['subjectenc']=le.fit_transform(data.subject.tolist())"
      ]
    },
    {
      "cell_type": "code",
      "execution_count": null,
      "metadata": {
        "id": "CXEPhegXspy9"
      },
      "outputs": [],
      "source": [
        "subject_data=pd.DataFrame(pd.get_dummies(data.Target)['Fake'])\n",
        "subject_data['subjectenc']=data['subjectenc']"
      ]
    },
    {
      "cell_type": "code",
      "execution_count": null,
      "metadata": {
        "colab": {
          "base_uri": "https://localhost:8080/",
          "height": 107
        },
        "id": "0XDxUVPduYti",
        "outputId": "59195d32-8939-4140-fcef-c5fb6076abcc"
      },
      "outputs": [
        {
          "data": {
            "text/html": [
              "<div>\n",
              "<style scoped>\n",
              "    .dataframe tbody tr th:only-of-type {\n",
              "        vertical-align: middle;\n",
              "    }\n",
              "\n",
              "    .dataframe tbody tr th {\n",
              "        vertical-align: top;\n",
              "    }\n",
              "\n",
              "    .dataframe thead th {\n",
              "        text-align: right;\n",
              "    }\n",
              "</style>\n",
              "<table border=\"1\" class=\"dataframe\">\n",
              "  <thead>\n",
              "    <tr style=\"text-align: right;\">\n",
              "      <th></th>\n",
              "      <th>Fake</th>\n",
              "      <th>subjectenc</th>\n",
              "    </tr>\n",
              "  </thead>\n",
              "  <tbody>\n",
              "    <tr>\n",
              "      <th>Fake</th>\n",
              "      <td>1.0000</td>\n",
              "      <td>-0.8162</td>\n",
              "    </tr>\n",
              "    <tr>\n",
              "      <th>subjectenc</th>\n",
              "      <td>-0.8162</td>\n",
              "      <td>1.0000</td>\n",
              "    </tr>\n",
              "  </tbody>\n",
              "</table>\n",
              "</div>"
            ],
            "text/plain": [
              "              Fake  subjectenc\n",
              "Fake        1.0000     -0.8162\n",
              "subjectenc -0.8162      1.0000"
            ]
          },
          "execution_count": 88,
          "metadata": {
            "tags": []
          },
          "output_type": "execute_result"
        }
      ],
      "source": [
        "subject_data.corr()"
      ]
    },
    {
      "cell_type": "code",
      "execution_count": null,
      "metadata": {
        "colab": {
          "base_uri": "https://localhost:8080/",
          "height": 406
        },
        "id": "HkH7sX0Jue6V",
        "outputId": "c63b005d-2f89-4aba-e736-9d32b8c0af5e"
      },
      "outputs": [
        {
          "data": {
            "text/html": [
              "<div>\n",
              "<style scoped>\n",
              "    .dataframe tbody tr th:only-of-type {\n",
              "        vertical-align: middle;\n",
              "    }\n",
              "\n",
              "    .dataframe tbody tr th {\n",
              "        vertical-align: top;\n",
              "    }\n",
              "\n",
              "    .dataframe thead th {\n",
              "        text-align: right;\n",
              "    }\n",
              "</style>\n",
              "<table border=\"1\" class=\"dataframe\">\n",
              "  <thead>\n",
              "    <tr style=\"text-align: right;\">\n",
              "      <th></th>\n",
              "      <th>title</th>\n",
              "      <th>text</th>\n",
              "      <th>date</th>\n",
              "      <th>Target</th>\n",
              "      <th>subjectenc</th>\n",
              "    </tr>\n",
              "  </thead>\n",
              "  <tbody>\n",
              "    <tr>\n",
              "      <th>0</th>\n",
              "      <td>NOT KIDDING: Why Government Is Forcing Manhatt...</td>\n",
              "      <td>Thanks to our government, the land of opportun...</td>\n",
              "      <td>Oct 14, 2015</td>\n",
              "      <td>Fake</td>\n",
              "      <td>0</td>\n",
              "    </tr>\n",
              "    <tr>\n",
              "      <th>1</th>\n",
              "      <td>Study Shows Conservative Voters Are Literally...</td>\n",
              "      <td>A study was just released that said that conse...</td>\n",
              "      <td>March 31, 2017</td>\n",
              "      <td>Fake</td>\n",
              "      <td>2</td>\n",
              "    </tr>\n",
              "    <tr>\n",
              "      <th>2</th>\n",
              "      <td>Republicans to kill U.S. rules on corruption, ...</td>\n",
              "      <td>WASHINGTON (Reuters) - Congressional Republica...</td>\n",
              "      <td>January 25, 2017</td>\n",
              "      <td>True</td>\n",
              "      <td>6</td>\n",
              "    </tr>\n",
              "    <tr>\n",
              "      <th>3</th>\n",
              "      <td>U.S. service member killed in Afghanistan heli...</td>\n",
              "      <td>KABUL (Reuters) - A U.S. military service memb...</td>\n",
              "      <td>October 28, 2017</td>\n",
              "      <td>True</td>\n",
              "      <td>7</td>\n",
              "    </tr>\n",
              "    <tr>\n",
              "      <th>4</th>\n",
              "      <td>Black And Brown People Accounted For 86.5 Per...</td>\n",
              "      <td>Black and brown people accounted for 86.5 perc...</td>\n",
              "      <td>June 5, 2016</td>\n",
              "      <td>Fake</td>\n",
              "      <td>2</td>\n",
              "    </tr>\n",
              "    <tr>\n",
              "      <th>...</th>\n",
              "      <td>...</td>\n",
              "      <td>...</td>\n",
              "      <td>...</td>\n",
              "      <td>...</td>\n",
              "      <td>...</td>\n",
              "    </tr>\n",
              "    <tr>\n",
              "      <th>44893</th>\n",
              "      <td>Tillerson tells Myanmar army chief U.S. concer...</td>\n",
              "      <td>WASHINGTON (Reuters) - U.S. Secretary of State...</td>\n",
              "      <td>October 27, 2017</td>\n",
              "      <td>True</td>\n",
              "      <td>6</td>\n",
              "    </tr>\n",
              "    <tr>\n",
              "      <th>44894</th>\n",
              "      <td>Trump adviser: TPP 'dead,' will move quickly o...</td>\n",
              "      <td>WASHINGTON (Reuters) - President-elect Donald ...</td>\n",
              "      <td>January 13, 2017</td>\n",
              "      <td>True</td>\n",
              "      <td>6</td>\n",
              "    </tr>\n",
              "    <tr>\n",
              "      <th>44895</th>\n",
              "      <td>Union leader shot dead near South African Lonm...</td>\n",
              "      <td>JOHANNESBURG (Reuters) - South Africa s Associ...</td>\n",
              "      <td>September 23, 2017</td>\n",
              "      <td>True</td>\n",
              "      <td>7</td>\n",
              "    </tr>\n",
              "    <tr>\n",
              "      <th>44896</th>\n",
              "      <td>Great Britain’s Government Just Issued An EPI...</td>\n",
              "      <td>Donald Trump is scheduled to make his first st...</td>\n",
              "      <td>February 7, 2017</td>\n",
              "      <td>Fake</td>\n",
              "      <td>2</td>\n",
              "    </tr>\n",
              "    <tr>\n",
              "      <th>44897</th>\n",
              "      <td>(VIDEO) OBAMA ON LETTERMAN: “WE IGNORE POCKETS...</td>\n",
              "      <td>The stats don t lie on this one Obama s hoping...</td>\n",
              "      <td>May 5, 2015</td>\n",
              "      <td>Fake</td>\n",
              "      <td>4</td>\n",
              "    </tr>\n",
              "  </tbody>\n",
              "</table>\n",
              "<p>44898 rows × 5 columns</p>\n",
              "</div>"
            ],
            "text/plain": [
              "                                                   title  ... subjectenc\n",
              "0      NOT KIDDING: Why Government Is Forcing Manhatt...  ...          0\n",
              "1       Study Shows Conservative Voters Are Literally...  ...          2\n",
              "2      Republicans to kill U.S. rules on corruption, ...  ...          6\n",
              "3      U.S. service member killed in Afghanistan heli...  ...          7\n",
              "4       Black And Brown People Accounted For 86.5 Per...  ...          2\n",
              "...                                                  ...  ...        ...\n",
              "44893  Tillerson tells Myanmar army chief U.S. concer...  ...          6\n",
              "44894  Trump adviser: TPP 'dead,' will move quickly o...  ...          6\n",
              "44895  Union leader shot dead near South African Lonm...  ...          7\n",
              "44896   Great Britain’s Government Just Issued An EPI...  ...          2\n",
              "44897  (VIDEO) OBAMA ON LETTERMAN: “WE IGNORE POCKETS...  ...          4\n",
              "\n",
              "[44898 rows x 5 columns]"
            ]
          },
          "execution_count": 111,
          "metadata": {
            "tags": []
          },
          "output_type": "execute_result"
        }
      ],
      "source": [
        "data.drop(columns=['subject'])"
      ]
    },
    {
      "cell_type": "code",
      "execution_count": null,
      "metadata": {
        "id": "_a51FHOgwT-u"
      },
      "outputs": [],
      "source": []
    },
    {
      "cell_type": "code",
      "execution_count": null,
      "metadata": {
        "id": "dPqj1Ch50iYZ"
      },
      "outputs": [],
      "source": [
        "data['label']=pd.get_dummies(data.Target)['Fake']"
      ]
    },
    {
      "cell_type": "code",
      "execution_count": null,
      "metadata": {
        "id": "3P9DYEq3y6pR"
      },
      "outputs": [],
      "source": [
        "train_text, temp_text, train_labels, temp_labels = train_test_split(data['title'], data['label'], \n",
        "                                                                    random_state=2018, \n",
        "                                                                    test_size=0.3, \n",
        "                                                                    stratify=data['Target'])"
      ]
    },
    {
      "cell_type": "code",
      "execution_count": null,
      "metadata": {
        "id": "qMg4S-1KzWbM"
      },
      "outputs": [],
      "source": [
        "\n",
        "val_text, test_text, val_labels, test_labels = train_test_split(temp_text, temp_labels, \n",
        "                                                                random_state=2018, \n",
        "                                                                test_size=0.5, \n",
        "                                                                stratify=temp_labels)"
      ]
    },
    {
      "cell_type": "code",
      "execution_count": null,
      "metadata": {
        "id": "w6skrhdVzW0b"
      },
      "outputs": [],
      "source": [
        "bert = AutoModel.from_pretrained('bert-base-uncased')\n",
        "tokenizer = BertTokenizerFast.from_pretrained('bert-base-uncased')"
      ]
    },
    {
      "cell_type": "code",
      "execution_count": null,
      "metadata": {
        "colab": {
          "base_uri": "https://localhost:8080/",
          "height": 630
        },
        "id": "FDZx-O2xzcA_",
        "outputId": "deae864f-ae0e-424a-f034-f08de36b7f46"
      },
      "outputs": [
        {
          "data": {
            "text/plain": [
              "Text(0, 0.5, 'Number of texts')"
            ]
          },
          "execution_count": 152,
          "metadata": {
            "tags": []
          },
          "output_type": "execute_result"
        },
        {
          "data": {
            "image/png": "[encoded data removed]",
            "text/plain": [
              "<Figure size 720x720 with 1 Axes>"
            ]
          },
          "metadata": {
            "tags": []
          },
          "output_type": "display_data"
        }
      ],
      "source": [
        "seq_len = [len(i.split()) for i in train_text]\n",
        "\n",
        "pd.Series(seq_len).hist(bins = 40,color='firebrick')\n",
        "plt.xlabel('Number of Words')\n",
        "plt.ylabel('Number of texts')"
      ]
    },
    {
      "cell_type": "code",
      "execution_count": null,
      "metadata": {
        "colab": {
          "base_uri": "https://localhost:8080/"
        },
        "id": "rfwINnZozkyd",
        "outputId": "273f27a7-1678-4bcc-ad82-526242dffc6a"
      },
      "outputs": [
        {
          "name": "stderr",
          "output_type": "stream",
          "text": [
            "/usr/local/lib/python3.7/dist-packages/transformers/tokenization_utils_base.py:2079: FutureWarning: The `pad_to_max_length` argument is deprecated and will be removed in a future version, use `padding=True` or `padding='longest'` to pad to the longest sequence in the batch, or use `padding='max_length'` to pad to a max length. In this case, you can give a specific length with `max_length` (e.g. `max_length=45`) or leave max_length to None to pad to the maximal input size of the model (e.g. 512 for Bert).\n",
            "  FutureWarning,\n"
          ]
        }
      ],
      "source": [
        "MAX_LENGHT = 15\n",
        "tokens_train = tokenizer.batch_encode_plus(\n",
        "    train_text.tolist(),\n",
        "    max_length = MAX_LENGHT,\n",
        "    pad_to_max_length=True,\n",
        "    truncation=True\n",
        ")\n",
        "\n",
        "# tokenize and encode sequences in the validation set\n",
        "tokens_val = tokenizer.batch_encode_plus(\n",
        "    val_text.tolist(),\n",
        "    max_length = MAX_LENGHT,\n",
        "    pad_to_max_length=True,\n",
        "    truncation=True\n",
        ")\n",
        "\n",
        "# tokenize and encode sequences in the test set\n",
        "tokens_test = tokenizer.batch_encode_plus(\n",
        "    test_text.tolist(),\n",
        "    max_length = MAX_LENGHT,\n",
        "    pad_to_max_length=True,\n",
        "    truncation=True\n",
        ")\n"
      ]
    },
    {
      "cell_type": "code",
      "execution_count": null,
      "metadata": {
        "id": "jE9PI9_H0Moi"
      },
      "outputs": [],
      "source": [
        "## convert lists to tensors\n",
        "\n",
        "train_seq = torch.tensor(tokens_train['input_ids'])\n",
        "train_mask = torch.tensor(tokens_train['attention_mask'])\n",
        "train_y = torch.tensor(train_labels.tolist())\n",
        "\n",
        "val_seq = torch.tensor(tokens_val['input_ids'])\n",
        "val_mask = torch.tensor(tokens_val['attention_mask'])\n",
        "val_y = torch.tensor(val_labels.tolist())\n",
        "\n",
        "test_seq = torch.tensor(tokens_test['input_ids'])\n",
        "test_mask = torch.tensor(tokens_test['attention_mask'])\n",
        "test_y = torch.tensor(test_labels.tolist())"
      ]
    },
    {
      "cell_type": "code",
      "execution_count": null,
      "metadata": {
        "id": "Oft-16jR0M6h"
      },
      "outputs": [],
      "source": [
        "from torch.utils.data import TensorDataset, DataLoader, RandomSampler, SequentialSampler\n",
        "\n",
        "#define a batch size\n",
        "batch_size = 32\n",
        "\n",
        "# wrap tensors\n",
        "train_data = TensorDataset(train_seq, train_mask, train_y)\n",
        "\n",
        "# sampler for sampling the data during training\n",
        "train_sampler = RandomSampler(train_data)\n",
        "\n",
        "# dataLoader for train set\n",
        "train_dataloader = DataLoader(train_data, sampler=train_sampler, batch_size=batch_size)\n",
        "\n",
        "# wrap tensors\n",
        "val_data = TensorDataset(val_seq, val_mask, val_y)\n",
        "\n",
        "# sampler for sampling the data during training\n",
        "val_sampler = SequentialSampler(val_data)\n",
        "\n",
        "# dataLoader for validation set\n",
        "val_dataloader = DataLoader(val_data, sampler = val_sampler, batch_size=batch_size)"
      ]
    },
    {
      "cell_type": "code",
      "execution_count": null,
      "metadata": {
        "id": "5oC6f5jD0vm0"
      },
      "outputs": [],
      "source": [
        "for param in bert.parameters():\n",
        "    param.requires_grad = False"
      ]
    },
    {
      "cell_type": "code",
      "execution_count": null,
      "metadata": {
        "id": "EdCPrBRd0y63"
      },
      "outputs": [],
      "source": [
        "class BERT_Arch(nn.Module):\n",
        "\n",
        "    def __init__(self, bert):\n",
        "      \n",
        "      super(BERT_Arch, self).__init__()\n",
        "\n",
        "      self.bert = bert \n",
        "      \n",
        "      # dropout layer\n",
        "      self.dropout = nn.Dropout(0.1)\n",
        "      \n",
        "      # relu activation function\n",
        "      self.relu =  nn.ReLU()\n",
        "\n",
        "      # dense layer 1\n",
        "      self.fc1 = nn.Linear(768,512)\n",
        "      \n",
        "      # dense layer 2 (Output layer)\n",
        "      self.fc2 = nn.Linear(512,2)\n",
        "\n",
        "      #softmax activation function\n",
        "      self.softmax = nn.LogSoftmax(dim=1)\n",
        "\n",
        "    #define the forward pass\n",
        "    def forward(self, sent_id, mask):\n",
        "\n",
        "      #pass the inputs to the model  \n",
        "      cls_hs = self.bert(sent_id, attention_mask=mask)['pooler_output']\n",
        "      x = self.fc1(cls_hs)\n",
        "\n",
        "      x = self.relu(x)\n",
        "\n",
        "      x = self.dropout(x)\n",
        "\n",
        "      # output layer\n",
        "      x = self.fc2(x)\n",
        "      \n",
        "      # apply softmax activation\n",
        "      x = self.softmax(x)\n",
        "\n",
        "      return x"
      ]
    },
    {
      "cell_type": "code",
      "execution_count": null,
      "metadata": {
        "id": "y79HTaPx02ll"
      },
      "outputs": [],
      "source": [
        "model = BERT_Arch(bert)"
      ]
    },
    {
      "cell_type": "code",
      "execution_count": null,
      "metadata": {
        "id": "eoXTpSbj05zY"
      },
      "outputs": [],
      "source": [
        "from transformers import AdamW\n",
        "\n",
        "# define the optimizer\n",
        "optimizer = AdamW(model.parameters(),\n",
        "                  lr = 1e-5)          # learning rate"
      ]
    },
    {
      "cell_type": "code",
      "execution_count": null,
      "metadata": {
        "colab": {
          "base_uri": "https://localhost:8080/"
        },
        "id": "FJAaTquz077c",
        "outputId": "e1356802-8144-444d-ea9a-ce89728a770b"
      },
      "outputs": [
        {
          "name": "stdout",
          "output_type": "stream",
          "text": [
            "Class Weights: [1.04815902 0.95607204]\n"
          ]
        },
        {
          "name": "stderr",
          "output_type": "stream",
          "text": [
            "/usr/local/lib/python3.7/dist-packages/sklearn/utils/validation.py:72: FutureWarning: Pass classes=[0 1], y=30981    1\n",
            "21128    0\n",
            "3348     0\n",
            "29696    0\n",
            "35651    0\n",
            "        ..\n",
            "41765    1\n",
            "39076    1\n",
            "31411    1\n",
            "3001     1\n",
            "25478    0\n",
            "Name: label, Length: 31428, dtype: uint8 as keyword args. From version 1.0 (renaming of 0.25) passing these as positional arguments will result in an error\n",
            "  \"will result in an error\", FutureWarning)\n"
          ]
        }
      ],
      "source": [
        "from sklearn.utils.class_weight import compute_class_weight\n",
        "\n",
        "#compute the class weights\n",
        "class_weights = compute_class_weight('balanced', np.unique(train_labels), train_labels)\n",
        "\n",
        "print(\"Class Weights:\",class_weights)"
      ]
    },
    {
      "cell_type": "code",
      "execution_count": null,
      "metadata": {
        "id": "kQ3TrzoR1LoD"
      },
      "outputs": [],
      "source": [
        "weights= torch.tensor(class_weights,dtype=torch.float)\n",
        "\n",
        "# define the loss function\n",
        "cross_entropy  = nn.NLLLoss(weight=weights) \n",
        "\n",
        "# number of training epochs\n",
        "epochs = 10"
      ]
    },
    {
      "cell_type": "code",
      "execution_count": null,
      "metadata": {
        "id": "BEG81NvL1Rt9"
      },
      "outputs": [],
      "source": [
        "def train():\n",
        "  \n",
        "  model.train()\n",
        "\n",
        "  total_loss, total_accuracy = 0, 0\n",
        "  \n",
        "  # empty list to save model predictions\n",
        "  total_preds=[]\n",
        "  \n",
        "  # iterate over batches\n",
        "  for step,batch in enumerate(train_dataloader):\n",
        "    \n",
        "    # progress update after every 50 batches.\n",
        "    if step % 50 == 0 and not step == 0:\n",
        "      print('  Batch {:>5,}  of  {:>5,}.'.format(step, len(train_dataloader)))\n",
        "\n",
        "    # push the batch to gpu\n",
        "    batch = [r for r in batch]\n",
        "    sent_id, mask, labels = batch\n",
        "    #print(type(labels),type(mask),type(sent_id))\n",
        "    #print(sent_id)\n",
        "    # clear previously calculated gradients \n",
        "    model.zero_grad()        \n",
        "    # get model predictions for the current batch\n",
        "    preds = model(sent_id, mask)\n",
        "\n",
        "    # compute the loss between actual and predicted values\n",
        "    loss = cross_entropy(preds, labels)\n",
        "\n",
        "    # add on to the total loss\n",
        "    total_loss = total_loss + loss.item()\n",
        "\n",
        "    # backward pass to calculate the gradients\n",
        "    loss.backward()\n",
        "\n",
        "    # clip the the gradients to 1.0. It helps in preventing the exploding gradient problem\n",
        "    torch.nn.utils.clip_grad_norm_(model.parameters(), 1.0)\n",
        "\n",
        "    # update parameters\n",
        "    optimizer.step()\n",
        "\n",
        "    # model predictions are stored on GPU. So, push it to CPU\n",
        "    preds=preds.detach().cpu().numpy()\n",
        "\n",
        "    # append the model predictions\n",
        "    total_preds.append(preds)\n",
        "\n",
        "  # compute the training loss of the epoch\n",
        "  avg_loss = total_loss / len(train_dataloader)\n",
        "  \n",
        "  # predictions are in the form of (no. of batches, size of batch, no. of classes).\n",
        "  # reshape the predictions in form of (number of samples, no. of classes)\n",
        "  total_preds  = np.concatenate(total_preds, axis=0)\n",
        "\n",
        "  #returns the loss and predictions\n",
        "  return avg_loss, total_preds"
      ]
    },
    {
      "cell_type": "code",
      "execution_count": null,
      "metadata": {
        "id": "6rD_gVru1aC5"
      },
      "outputs": [],
      "source": [
        "def evaluate():\n",
        "  \n",
        "  print(\"\\nEvaluating...\")\n",
        "  \n",
        "  # deactivate dropout layers\n",
        "  model.eval()\n",
        "\n",
        "  total_loss, total_accuracy = 0, 0\n",
        "  \n",
        "  # empty list to save the model predictions\n",
        "  total_preds = []\n",
        "\n",
        "  # iterate over batches\n",
        "  for step,batch in enumerate(val_dataloader):\n",
        "    \n",
        "    # Progress update every 50 batches.\n",
        "    if step % 50 == 0 and not step == 0:\n",
        "      \n",
        "      # Calculate elapsed time in minutes.\n",
        "      #elapsed = format_time(time.time() - t0)\n",
        "            \n",
        "      # Report progress.\n",
        "      print('  Batch {:>5,}  of  {:>5,}.'.format(step, len(val_dataloader)))\n",
        "\n",
        "    # push the batch to gpu\n",
        "    batch = [t for t in batch]\n",
        "\n",
        "    sent_id, mask, labels = batch\n",
        "\n",
        "    # deactivate autograd\n",
        "    with torch.no_grad():\n",
        "      \n",
        "      # model predictions\n",
        "      preds = model(sent_id, mask)\n",
        "\n",
        "      # compute the validation loss between actual and predicted values\n",
        "      loss = cross_entropy(preds,labels)\n",
        "\n",
        "      total_loss = total_loss + loss.item()\n",
        "\n",
        "      preds = preds.detach().cpu().numpy()\n",
        "\n",
        "      total_preds.append(preds)\n",
        "\n",
        "  # compute the validation loss of the epoch\n",
        "  avg_loss = total_loss / len(val_dataloader) \n",
        "\n",
        "  # reshape the predictions in form of (number of samples, no. of classes)\n",
        "  total_preds  = np.concatenate(total_preds, axis=0)\n",
        "\n",
        "  return avg_loss, total_preds"
      ]
    },
    {
      "cell_type": "code",
      "execution_count": null,
      "metadata": {
        "colab": {
          "base_uri": "https://localhost:8080/"
        },
        "id": "uSN0ZPiW1d-e",
        "outputId": "6ea1cac1-5039-4186-b4ed-347580950915"
      },
      "outputs": [
        {
          "name": "stdout",
          "output_type": "stream",
          "text": [
            "\n",
            " Epoch 1 / 10\n",
            "  Batch    50  of    983.\n",
            "  Batch   100  of    983.\n",
            "  Batch   150  of    983.\n",
            "  Batch   200  of    983.\n",
            "  Batch   250  of    983.\n",
            "  Batch   300  of    983.\n",
            "  Batch   350  of    983.\n",
            "  Batch   400  of    983.\n",
            "  Batch   450  of    983.\n",
            "  Batch   500  of    983.\n",
            "  Batch   550  of    983.\n",
            "  Batch   600  of    983.\n",
            "  Batch   650  of    983.\n",
            "  Batch   700  of    983.\n",
            "  Batch   750  of    983.\n",
            "  Batch   800  of    983.\n",
            "  Batch   850  of    983.\n",
            "  Batch   900  of    983.\n",
            "  Batch   950  of    983.\n",
            "\n",
            "Evaluating...\n",
            "  Batch    50  of    211.\n",
            "  Batch   100  of    211.\n",
            "  Batch   150  of    211.\n",
            "  Batch   200  of    211.\n",
            "\n",
            "Training Loss: 0.470\n",
            "Validation Loss: 0.411\n",
            "\n",
            " Epoch 2 / 10\n",
            "  Batch    50  of    983.\n",
            "  Batch   100  of    983.\n",
            "  Batch   150  of    983.\n",
            "  Batch   200  of    983.\n",
            "  Batch   250  of    983.\n",
            "  Batch   300  of    983.\n",
            "  Batch   350  of    983.\n",
            "  Batch   400  of    983.\n",
            "  Batch   450  of    983.\n",
            "  Batch   500  of    983.\n",
            "  Batch   550  of    983.\n",
            "  Batch   600  of    983.\n",
            "  Batch   650  of    983.\n",
            "  Batch   700  of    983.\n",
            "  Batch   750  of    983.\n",
            "  Batch   800  of    983.\n",
            "  Batch   850  of    983.\n",
            "  Batch   900  of    983.\n",
            "  Batch   950  of    983.\n",
            "\n",
            "Evaluating...\n",
            "  Batch    50  of    211.\n",
            "  Batch   100  of    211.\n",
            "  Batch   150  of    211.\n",
            "  Batch   200  of    211.\n",
            "\n",
            "Training Loss: 0.411\n",
            "Validation Loss: 0.365\n",
            "\n",
            " Epoch 3 / 10\n",
            "  Batch    50  of    983.\n",
            "  Batch   100  of    983.\n",
            "  Batch   150  of    983.\n",
            "  Batch   200  of    983.\n",
            "  Batch   250  of    983.\n",
            "  Batch   300  of    983.\n",
            "  Batch   350  of    983.\n",
            "  Batch   400  of    983.\n",
            "  Batch   450  of    983.\n",
            "  Batch   500  of    983.\n",
            "  Batch   550  of    983.\n",
            "  Batch   600  of    983.\n",
            "  Batch   650  of    983.\n",
            "  Batch   700  of    983.\n",
            "  Batch   750  of    983.\n",
            "  Batch   800  of    983.\n",
            "  Batch   850  of    983.\n",
            "  Batch   900  of    983.\n",
            "  Batch   950  of    983.\n",
            "\n",
            "Evaluating...\n",
            "  Batch    50  of    211.\n",
            "  Batch   100  of    211.\n",
            "  Batch   150  of    211.\n",
            "  Batch   200  of    211.\n",
            "\n",
            "Training Loss: 0.378\n",
            "Validation Loss: 0.334\n",
            "\n",
            " Epoch 4 / 10\n",
            "  Batch    50  of    983.\n",
            "  Batch   100  of    983.\n",
            "  Batch   150  of    983.\n",
            "  Batch   200  of    983.\n",
            "  Batch   250  of    983.\n",
            "  Batch   300  of    983.\n",
            "  Batch   350  of    983.\n",
            "  Batch   400  of    983.\n",
            "  Batch   450  of    983.\n",
            "  Batch   500  of    983.\n",
            "  Batch   550  of    983.\n",
            "  Batch   600  of    983.\n",
            "  Batch   650  of    983.\n",
            "  Batch   700  of    983.\n",
            "  Batch   750  of    983.\n",
            "  Batch   800  of    983.\n",
            "  Batch   850  of    983.\n",
            "  Batch   900  of    983.\n",
            "  Batch   950  of    983.\n",
            "\n",
            "Evaluating...\n",
            "  Batch    50  of    211.\n",
            "  Batch   100  of    211.\n",
            "  Batch   150  of    211.\n",
            "  Batch   200  of    211.\n",
            "\n",
            "Training Loss: 0.354\n",
            "Validation Loss: 0.312\n",
            "\n",
            " Epoch 5 / 10\n",
            "  Batch    50  of    983.\n",
            "  Batch   100  of    983.\n",
            "  Batch   150  of    983.\n",
            "  Batch   200  of    983.\n",
            "  Batch   250  of    983.\n",
            "  Batch   300  of    983.\n",
            "  Batch   350  of    983.\n",
            "  Batch   400  of    983.\n",
            "  Batch   450  of    983.\n",
            "  Batch   500  of    983.\n",
            "  Batch   550  of    983.\n",
            "  Batch   600  of    983.\n",
            "  Batch   650  of    983.\n",
            "  Batch   700  of    983.\n",
            "  Batch   750  of    983.\n",
            "  Batch   800  of    983.\n",
            "  Batch   850  of    983.\n",
            "  Batch   900  of    983.\n",
            "  Batch   950  of    983.\n",
            "\n",
            "Evaluating...\n",
            "  Batch    50  of    211.\n",
            "  Batch   100  of    211.\n",
            "  Batch   150  of    211.\n",
            "  Batch   200  of    211.\n",
            "\n",
            "Training Loss: 0.338\n",
            "Validation Loss: 0.302\n",
            "\n",
            " Epoch 6 / 10\n",
            "  Batch    50  of    983.\n",
            "  Batch   100  of    983.\n",
            "  Batch   150  of    983.\n",
            "  Batch   200  of    983.\n",
            "  Batch   250  of    983.\n",
            "  Batch   300  of    983.\n",
            "  Batch   350  of    983.\n",
            "  Batch   400  of    983.\n",
            "  Batch   450  of    983.\n",
            "  Batch   500  of    983.\n",
            "  Batch   550  of    983.\n",
            "  Batch   600  of    983.\n",
            "  Batch   650  of    983.\n",
            "  Batch   700  of    983.\n",
            "  Batch   750  of    983.\n",
            "  Batch   800  of    983.\n",
            "  Batch   850  of    983.\n",
            "  Batch   900  of    983.\n",
            "  Batch   950  of    983.\n",
            "\n",
            "Evaluating...\n",
            "  Batch    50  of    211.\n",
            "  Batch   100  of    211.\n",
            "  Batch   150  of    211.\n",
            "  Batch   200  of    211.\n",
            "\n",
            "Training Loss: 0.332\n",
            "Validation Loss: 0.293\n",
            "\n",
            " Epoch 7 / 10\n",
            "  Batch    50  of    983.\n",
            "  Batch   100  of    983.\n",
            "  Batch   150  of    983.\n",
            "  Batch   200  of    983.\n",
            "  Batch   250  of    983.\n",
            "  Batch   300  of    983.\n",
            "  Batch   350  of    983.\n",
            "  Batch   400  of    983.\n",
            "  Batch   450  of    983.\n",
            "  Batch   500  of    983.\n",
            "  Batch   550  of    983.\n",
            "  Batch   600  of    983.\n",
            "  Batch   650  of    983.\n",
            "  Batch   700  of    983.\n",
            "  Batch   750  of    983.\n",
            "  Batch   800  of    983.\n",
            "  Batch   850  of    983.\n",
            "  Batch   900  of    983.\n",
            "  Batch   950  of    983.\n",
            "\n",
            "Evaluating...\n",
            "  Batch    50  of    211.\n",
            "  Batch   100  of    211.\n",
            "  Batch   150  of    211.\n",
            "  Batch   200  of    211.\n",
            "\n",
            "Training Loss: 0.323\n",
            "Validation Loss: 0.291\n",
            "\n",
            " Epoch 8 / 10\n",
            "  Batch    50  of    983.\n",
            "  Batch   100  of    983.\n",
            "  Batch   150  of    983.\n",
            "  Batch   200  of    983.\n",
            "  Batch   250  of    983.\n",
            "  Batch   300  of    983.\n",
            "  Batch   350  of    983.\n",
            "  Batch   400  of    983.\n",
            "  Batch   450  of    983.\n",
            "  Batch   500  of    983.\n",
            "  Batch   550  of    983.\n",
            "  Batch   600  of    983.\n",
            "  Batch   650  of    983.\n",
            "  Batch   700  of    983.\n",
            "  Batch   750  of    983.\n",
            "  Batch   800  of    983.\n",
            "  Batch   850  of    983.\n",
            "  Batch   900  of    983.\n",
            "  Batch   950  of    983.\n",
            "\n",
            "Evaluating...\n",
            "  Batch    50  of    211.\n",
            "  Batch   100  of    211.\n",
            "  Batch   150  of    211.\n",
            "  Batch   200  of    211.\n",
            "\n",
            "Training Loss: 0.317\n",
            "Validation Loss: 0.284\n",
            "\n",
            " Epoch 9 / 10\n",
            "  Batch    50  of    983.\n",
            "  Batch   100  of    983.\n",
            "  Batch   150  of    983.\n",
            "  Batch   200  of    983.\n",
            "  Batch   250  of    983.\n",
            "  Batch   300  of    983.\n",
            "  Batch   350  of    983.\n",
            "  Batch   400  of    983.\n",
            "  Batch   450  of    983.\n",
            "  Batch   500  of    983.\n",
            "  Batch   550  of    983.\n",
            "  Batch   600  of    983.\n",
            "  Batch   650  of    983.\n",
            "  Batch   700  of    983.\n",
            "  Batch   750  of    983.\n",
            "  Batch   800  of    983.\n",
            "  Batch   850  of    983.\n",
            "  Batch   900  of    983.\n",
            "  Batch   950  of    983.\n",
            "\n",
            "Evaluating...\n",
            "  Batch    50  of    211.\n",
            "  Batch   100  of    211.\n",
            "  Batch   150  of    211.\n",
            "  Batch   200  of    211.\n",
            "\n",
            "Training Loss: 0.313\n",
            "Validation Loss: 0.280\n",
            "\n",
            " Epoch 10 / 10\n",
            "  Batch    50  of    983.\n",
            "  Batch   100  of    983.\n",
            "  Batch   150  of    983.\n",
            "  Batch   200  of    983.\n",
            "  Batch   250  of    983.\n",
            "  Batch   300  of    983.\n",
            "  Batch   350  of    983.\n",
            "  Batch   400  of    983.\n",
            "  Batch   450  of    983.\n",
            "  Batch   500  of    983.\n",
            "  Batch   550  of    983.\n",
            "  Batch   600  of    983.\n",
            "  Batch   650  of    983.\n",
            "  Batch   700  of    983.\n",
            "  Batch   750  of    983.\n",
            "  Batch   800  of    983.\n",
            "  Batch   850  of    983.\n",
            "  Batch   900  of    983.\n",
            "  Batch   950  of    983.\n",
            "\n",
            "Evaluating...\n",
            "  Batch    50  of    211.\n",
            "  Batch   100  of    211.\n",
            "  Batch   150  of    211.\n",
            "  Batch   200  of    211.\n",
            "\n",
            "Training Loss: 0.306\n",
            "Validation Loss: 0.268\n"
          ]
        }
      ],
      "source": [
        "best_valid_loss = float('inf')\n",
        "\n",
        "# empty lists to store training and validation loss of each epoch\n",
        "train_losses=[]\n",
        "valid_losses=[]\n",
        "\n",
        "#for each epoch\n",
        "for epoch in range(epochs):\n",
        "     \n",
        "    print('\\n Epoch {:} / {:}'.format(epoch + 1, epochs))\n",
        "    \n",
        "    #train model\n",
        "    train_loss, _ = train()\n",
        "    \n",
        "    #evaluate model\n",
        "    valid_loss, _ = evaluate()\n",
        "    \n",
        "    #save the best model\n",
        "    if valid_loss < best_valid_loss:\n",
        "        best_valid_loss = valid_loss\n",
        "        torch.save(model.state_dict(), 'saved_weights.pt')\n",
        "    \n",
        "    # append training and validation loss\n",
        "    train_losses.append(train_loss)\n",
        "    valid_losses.append(valid_loss)\n",
        "    \n",
        "    print(f'\\nTraining Loss: {train_loss:.3f}')\n",
        "    print(f'Validation Loss: {valid_loss:.3f}')"
      ]
    },
    {
      "cell_type": "code",
      "execution_count": null,
      "metadata": {
        "colab": {
          "base_uri": "https://localhost:8080/"
        },
        "id": "1fVcPQH5oTc6",
        "outputId": "63ecf2f5-0406-44a8-9165-5983cf95e3a6"
      },
      "outputs": [
        {
          "data": {
            "text/plain": [
              "<All keys matched successfully>"
            ]
          },
          "execution_count": 258,
          "metadata": {
            "tags": []
          },
          "output_type": "execute_result"
        }
      ],
      "source": [
        "\n",
        "#load weights of best model\n",
        "path = 'saved_weights.pt'\n",
        "model.load_state_dict(torch.load(path))"
      ]
    },
    {
      "cell_type": "code",
      "execution_count": null,
      "metadata": {
        "id": "aRgRYquAoWbu"
      },
      "outputs": [],
      "source": [
        "with torch.no_grad():\n",
        "  preds = model(test_seq, test_mask)\n",
        "  preds = preds.detach().cpu().numpy()"
      ]
    },
    {
      "cell_type": "code",
      "execution_count": null,
      "metadata": {
        "colab": {
          "base_uri": "https://localhost:8080/"
        },
        "id": "z0VCmcDNoZum",
        "outputId": "a2cc6946-9361-4eae-e32e-e85b5b72d3c1"
      },
      "outputs": [
        {
          "name": "stdout",
          "output_type": "stream",
          "text": [
            "              precision    recall  f1-score   support\n",
            "\n",
            "           0       0.86      0.89      0.88      3213\n",
            "           1       0.90      0.87      0.88      3522\n",
            "\n",
            "    accuracy                           0.88      6735\n",
            "   macro avg       0.88      0.88      0.88      6735\n",
            "weighted avg       0.88      0.88      0.88      6735\n",
            "\n"
          ]
        }
      ],
      "source": [
        "preds = np.argmax(preds, axis = 1)\n",
        "print(classification_report(test_y, preds))"
      ]
    },
    {
      "cell_type": "code",
      "execution_count": null,
      "metadata": {
        "id": "0Os2l7T5pqcd"
      },
      "outputs": [],
      "source": [
        "from sklearn.metrics import confusion_matrix"
      ]
    },
    {
      "cell_type": "code",
      "execution_count": null,
      "metadata": {
        "colab": {
          "base_uri": "https://localhost:8080/"
        },
        "id": "2Ofsq34DqlZz",
        "outputId": "40dadfa7-19cc-4089-cea1-04c2aba9aab7"
      },
      "outputs": [
        {
          "data": {
            "text/plain": [
              "array([[2875,  474],\n",
              "       [ 338, 3048]])"
            ]
          },
          "execution_count": 264,
          "metadata": {
            "tags": []
          },
          "output_type": "execute_result"
        }
      ],
      "source": [
        "confusion_matrix(preds,test_y)"
      ]
    },
    {
      "cell_type": "code",
      "execution_count": null,
      "metadata": {
        "colab": {
          "base_uri": "https://localhost:8080/",
          "height": 463
        },
        "id": "ok4hGJHrypnv",
        "outputId": "fabaf29d-5b88-4c73-8e3e-49106396bfd4"
      },
      "outputs": [
        {
          "name": "stdout",
          "output_type": "stream",
          "text": [
            "Collecting jovian\n",
            "\u001b[?25l  Downloading https://files.pythonhosted.org/packages/b4/41/2ceac09caf86e51c986cc15e78517f1f1c93f5f09c12fa6cb22bb85c4690/jovian-0.2.38-py2.py3-none-any.whl (68kB)\n",
            "\r",
            "\u001b[K     |████▊                           | 10kB 17.1MB/s eta 0:00:01\r",
            "\u001b[K     |█████████▌                      | 20kB 9.9MB/s eta 0:00:01\r",
            "\u001b[K     |██████████████▎                 | 30kB 9.0MB/s eta 0:00:01\r",
            "\u001b[K     |███████████████████             | 40kB 7.8MB/s eta 0:00:01\r",
            "\u001b[K     |███████████████████████▊        | 51kB 4.4MB/s eta 0:00:01\r",
            "\u001b[K     |████████████████████████████▌   | 61kB 4.9MB/s eta 0:00:01\r",
            "\u001b[K     |████████████████████████████████| 71kB 3.6MB/s \n",
            "\u001b[?25hRequirement already satisfied: pyyaml in /usr/local/lib/python3.7/dist-packages (from jovian) (3.13)\n",
            "Requirement already satisfied: requests in /usr/local/lib/python3.7/dist-packages (from jovian) (2.25.1)\n",
            "Requirement already satisfied: click in /usr/local/lib/python3.7/dist-packages (from jovian) (7.1.2)\n",
            "Collecting uuid\n",
            "  Downloading https://files.pythonhosted.org/packages/ce/63/f42f5aa951ebf2c8dac81f77a8edcc1c218640a2a35a03b9ff2d4aa64c3d/uuid-1.30.tar.gz\n",
            "Requirement already satisfied: chardet<5,>=3.0.2 in /usr/local/lib/python3.7/dist-packages (from requests->jovian) (3.0.4)\n",
            "Requirement already satisfied: idna<3,>=2.5 in /usr/local/lib/python3.7/dist-packages (from requests->jovian) (2.10)\n",
            "Requirement already satisfied: certifi>=2017.4.17 in /usr/local/lib/python3.7/dist-packages (from requests->jovian) (2020.12.5)\n",
            "Requirement already satisfied: urllib3<1.27,>=1.21.1 in /usr/local/lib/python3.7/dist-packages (from requests->jovian) (1.24.3)\n",
            "Building wheels for collected packages: uuid\n",
            "  Building wheel for uuid (setup.py) ... \u001b[?25l\u001b[?25hdone\n",
            "  Created wheel for uuid: filename=uuid-1.30-cp37-none-any.whl size=6503 sha256=23deb7671bebe9b3fa06a3dca96cfa1a302fe6f818636b9dfc818cd34a124c9f\n",
            "  Stored in directory: /root/.cache/pip/wheels/2a/80/9b/015026567c29fdffe31d91edbe7ba1b17728db79194fca1f21\n",
            "Successfully built uuid\n",
            "Installing collected packages: uuid, jovian\n",
            "Successfully installed jovian-0.2.38 uuid-1.30\n"
          ]
        },
        {
          "data": {
            "application/vnd.colab-display-data+json": {
              "pip_warning": {
                "packages": [
                  "uuid"
                ]
              }
            }
          },
          "metadata": {
            "tags": []
          },
          "output_type": "display_data"
        }
      ],
      "source": [
        "!pip install jovian "
      ]
    },
    {
      "cell_type": "code",
      "execution_count": null,
      "metadata": {
        "id": "L6hVHz6nytZd",
        "outputId": "ee37a2f5-0119-499b-99b6-be171990e920"
      },
      "outputs": [
        {
          "data": {
            "application/javascript": [
              "window.require && require([\"base/js/namespace\"],function(Jupyter){Jupyter.notebook.save_checkpoint()})"
            ],
            "text/plain": [
              "<IPython.core.display.Javascript object>"
            ]
          },
          "metadata": {},
          "output_type": "display_data"
        },
        {
          "name": "stdout",
          "output_type": "stream",
          "text": [
            "[jovian] Attempting to save notebook..\u001b[0m\n"
          ]
        }
      ],
      "source": [
        "import jovian \n",
        "jovian.commit()"
      ]
    },
    {
      "cell_type": "code",
      "execution_count": null,
      "metadata": {
        "id": "_JwEhCiHcDMR"
      },
      "outputs": [],
      "source": []
    }
  ],
  "metadata": {
    "colab": {
      "provenance": [],
      "include_colab_link": true
    },
    "kernelspec": {
      "display_name": "display-name",
      "language": "python",
      "name": "yourenvname"
    },
    "language_info": {
      "codemirror_mode": {
        "name": "ipython",
        "version": 3
      },
      "file_extension": ".py",
      "mimetype": "text/x-python",
      "name": "python",
      "nbconvert_exporter": "python",
      "pygments_lexer": "ipython3",
      "version": "3.8.3"
    }
  },
  "nbformat": 4,
  "nbformat_minor": 0
}