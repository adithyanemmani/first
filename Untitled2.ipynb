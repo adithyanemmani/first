{
  "nbformat": 4,
  "nbformat_minor": 0,
  "metadata": {
    "colab": {
      "provenance": [],
      "collapsed_sections": [],
      "authorship_tag": "ABX9TyO7+GEOdYBIIb5Qb8ndrBKH",
      "include_colab_link": true
    },
    "kernelspec": {
      "name": "python3",
      "display_name": "Python 3"
    },
    "language_info": {
      "name": "python"
    }
  },
  "cells": [
    {
      "cell_type": "markdown",
      "metadata": {
        "id": "view-in-github",
        "colab_type": "text"
      },
      "source": [
        "<a href=\"https://colab.research.google.com/github/adithyanemmani/first/blob/main/Untitled2.ipynb\" target=\"_parent\"><img src=\"https://colab.research.google.com/assets/colab-badge.svg\" alt=\"Open In Colab\"/></a>"
      ]
    },
    {
      "cell_type": "code",
      "execution_count": null,
      "metadata": {
        "colab": {
          "base_uri": "https://localhost:8080/"
        },
        "id": "WvUASvUoKJSJ",
        "outputId": "3ad9597a-81a3-418c-aed5-bfb479f84f9a"
      },
      "outputs": [
        {
          "output_type": "stream",
          "name": "stdout",
          "text": [
            "Looking in indexes: https://pypi.org/simple, https://us-python.pkg.dev/colab-wheels/public/simple/\n",
            "\u001b[31mERROR: Could not find a version that satisfies the requirement pycrpto (from versions: none)\u001b[0m\n",
            "\u001b[31mERROR: No matching distribution found for pycrpto\u001b[0m\n"
          ]
        }
      ],
      "source": [
        "pip install pycrpto"
      ]
    },
    {
      "cell_type": "code",
      "source": [
        "pip install pycrypto"
      ],
      "metadata": {
        "colab": {
          "base_uri": "https://localhost:8080/"
        },
        "id": "0r4burp3KQCc",
        "outputId": "3b148a1f-d328-456c-e062-bd925cf7f1ec"
      },
      "execution_count": null,
      "outputs": [
        {
          "output_type": "stream",
          "name": "stdout",
          "text": [
            "Looking in indexes: https://pypi.org/simple, https://us-python.pkg.dev/colab-wheels/public/simple/\n",
            "Requirement already satisfied: pycrypto in /usr/local/lib/python3.7/dist-packages (2.6.1)\n"
          ]
        }
      ]
    },
    {
      "cell_type": "code",
      "source": [
        "import hashlib\n",
        "from Crypto import Random\n",
        "from Crypto.Cipher import AES\n",
        "from base64 import b64encode, b64decode"
      ],
      "metadata": {
        "id": "U78zx25cKd2O"
      },
      "execution_count": null,
      "outputs": []
    },
    {
      "cell_type": "code",
      "source": [
        "class AESCipher(object):\n",
        "    def __init__(self, key):\n",
        "        self.block_size = AES.block_size\n",
        "        self.key = hashlib.sha256(key.encode()).digest()"
      ],
      "metadata": {
        "id": "9tYgWW6NKkRM"
      },
      "execution_count": null,
      "outputs": []
    },
    {
      "cell_type": "code",
      "source": [
        " def __pad(self, plain_text):\n",
        "        number_of_bytes_to_pad = self.block_size - len(plain_text) % self.block_size\n",
        "        ascii_string = chr(number_of_bytes_to_pad)\n",
        "        padding_str = number_of_bytes_to_pad * ascii_string\n",
        "        padded_plain_text = plain_text + padding_str\n",
        "        return padded_plain_text"
      ],
      "metadata": {
        "id": "2XwKyXbEKtl1"
      },
      "execution_count": null,
      "outputs": []
    },
    {
      "cell_type": "code",
      "source": [
        "@staticmethod\n",
        "def __unpad(plain_text):\n",
        "        last_character = plain_text[len(plain_text) - 1:]\n",
        "        bytes_to_remove = ord(last_character)\n",
        "        return plain_text[:-bytes_to_remove]"
      ],
      "metadata": {
        "id": "CkF_WtFkKt1p"
      },
      "execution_count": null,
      "outputs": []
    },
    {
      "cell_type": "code",
      "source": [
        "def encrypt(self, plain_text):\n",
        "        plain_text = self.__pad(plain_text)\n",
        "        iv = Random.new().read(self.block_size)\n",
        "        cipher = AES.new(self.key, AES.MODE_CBC, iv)\n",
        "        encrypted_text = cipher.encrypt(plain_text.encode())\n",
        "        return b64encode(iv + encrypted_text).decode(\"utf-8\")"
      ],
      "metadata": {
        "id": "epJd4E79Kt--"
      },
      "execution_count": null,
      "outputs": []
    },
    {
      "cell_type": "code",
      "source": [
        "def decrypt(self, encrypted_text):\n",
        "        encrypted_text = b64decode(encrypted_text)\n",
        "        iv = encrypted_text[:self.block_size]\n",
        "        cipher = AES.new(self.key, AES.MODE_CBC, iv)\n",
        "        plain_text = cipher.decrypt(encrypted_text[self.block_size:]).decode(\"utf-8\")\n",
        "        return self.__unpad(plain_text)"
      ],
      "metadata": {
        "id": "tlQTYIuJKuOM"
      },
      "execution_count": null,
      "outputs": []
    },
    {
      "cell_type": "code",
      "source": [
        "pip install pycryptodomex"
      ],
      "metadata": {
        "colab": {
          "base_uri": "https://localhost:8080/"
        },
        "id": "lV8LLmJHO5cT",
        "outputId": "3e3521cd-5e88-449b-ea3f-0ad1f0505ec7"
      },
      "execution_count": null,
      "outputs": [
        {
          "output_type": "stream",
          "name": "stdout",
          "text": [
            "Looking in indexes: https://pypi.org/simple, https://us-python.pkg.dev/colab-wheels/public/simple/\n",
            "Requirement already satisfied: pycryptodomex in /usr/local/lib/python3.7/dist-packages (3.15.0)\n"
          ]
        }
      ]
    },
    {
      "cell_type": "code",
      "source": [
        "from Cryptodome.Cipher import AES\n",
        "import binascii, os\n",
        "\n",
        "def encrypt_AES_GCM(msg, secretKey):\n",
        "    aesCipher = AES.new(secretKey, AES.MODE_GCM)\n",
        "    ciphertext, authTag = aesCipher.encrypt_and_digest(msg)\n",
        "    return (ciphertext, aesCipher.nonce, authTag)\n",
        "\n",
        "def decrypt_AES_GCM(encryptedMsg, secretKey):\n",
        "    (ciphertext, nonce, authTag) = encryptedMsg\n",
        "    aesCipher = AES.new(secretKey, AES.MODE_GCM, nonce)\n",
        "    plaintext = aesCipher.decrypt_and_verify(ciphertext, authTag)\n",
        "    return plaintext\n",
        "\n",
        "secretKey = os.urandom(32)  # 256-bit random encryption key\n",
        "print(\"Encryption key:\", binascii.hexlify(secretKey))\n",
        "\n",
        "msg = b'Message for AES-256-GCM + Scrypt encryption'\n",
        "encryptedMsg = encrypt_AES_GCM(msg, secretKey)\n",
        "print(\"enter the encrypted msg:-\", encryptedMsg)\n",
        "print(\"encryptedMsg\", {\n",
        "    'ciphertext': binascii.hexlify(encryptedMsg[0]),#'aes-pycrypto';\n",
        "    'aesIV': binascii.hexlify(encryptedMsg[1]),\n",
        "    'authTag': binascii.hexlify(encryptedMsg[2])\n",
        "})\n",
        "\n",
        "decryptedMsg = decrypt_AES_GCM(encryptedMsg, secretKey)\n",
        "print(\"decryptedMsg\", decryptedMsg)\n",
        "print(\" the decrypted msg:-\", decryptedMsg)"
      ],
      "metadata": {
        "colab": {
          "base_uri": "https://localhost:8080/"
        },
        "id": "cHbnVrw8KuX8",
        "outputId": "680cf137-ba03-4efe-e905-39b4a7bc66e8"
      },
      "execution_count": null,
      "outputs": [
        {
          "output_type": "stream",
          "name": "stdout",
          "text": [
            "Encryption key: b'166b6fc9da82c5b857d26a8264581b6f2fee3a2187c90d07d5c6b2911a575d1d'\n",
            "enter the encrypted msg:- (b'by\\x0bG\\xb0\\xaf\\xc3,8S)\\xc7P\\xd1\\xf5\\xe5*Z\\xcd\\x8a1\\xc0\\xf5\\xc6\\xbbn\\xc1\\xd3\\xbe\\xc8,=\\x86\\xe3\\xf0\\t\\xa0/ws\\xf7\\x90D', b'\\x1d\\xb9H`\\xae\\x8b\\xc6\\xbf\\x8f\\x9bzd\\xca0T\\xb8', b'rm\\x9c9\\x97!>\\xb4\\x92\\xf0\\x91\\xcc\\xa0K\\xc3%')\n",
            "encryptedMsg {'ciphertext': b'62790b47b0afc32c385329c750d1f5e52a5acd8a31c0f5c6bb6ec1d3bec82c3d86e3f009a02f7773f79044', 'aesIV': b'1db94860ae8bc6bf8f9b7a64ca3054b8', 'authTag': b'726d9c3997213eb492f091cca04bc325'}\n",
            "decryptedMsg b'Message for AES-256-GCM + Scrypt encryption'\n",
            " the decrypted msg:- b'Message for AES-256-GCM + Scrypt encryption'\n"
          ]
        }
      ]
    },
    {
      "cell_type": "code",
      "source": [
        " def __pad(self, plain_text):\n",
        "        number_of_bytes_to_pad = self.block_size - len(plain_text) % self.block_size\n",
        "        ascii_string = chr(number_of_bytes_to_pad)\n",
        "        padding_str = number_of_bytes_to_pad * ascii_string\n",
        "        padded_plain_text = plain_text + padding_str\n",
        "        return padded_plain_text\n"
      ],
      "metadata": {
        "id": "H2eqS26tQ59z"
      },
      "execution_count": null,
      "outputs": []
    },
    {
      "cell_type": "code",
      "source": [
        "pip install pycryptodomex"
      ],
      "metadata": {
        "colab": {
          "base_uri": "https://localhost:8080/"
        },
        "id": "kHvXevRnQ9zN",
        "outputId": "a367c02e-8e51-4f87-dce8-1bc1e0f6c511"
      },
      "execution_count": null,
      "outputs": [
        {
          "output_type": "stream",
          "name": "stdout",
          "text": [
            "Looking in indexes: https://pypi.org/simple, https://us-python.pkg.dev/colab-wheels/public/simple/\n",
            "Requirement already satisfied: pycryptodomex in /usr/local/lib/python3.7/dist-packages (3.15.0)\n"
          ]
        }
      ]
    },
    {
      "cell_type": "code",
      "source": [
        "from Cryptodome.Cipher import AES"
      ],
      "metadata": {
        "id": "Rr54OegJKvAy"
      },
      "execution_count": null,
      "outputs": []
    }
  ]
}